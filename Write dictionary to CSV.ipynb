{
 "cells": [
  {
   "cell_type": "code",
   "execution_count": 7,
   "id": "07fdab15",
   "metadata": {},
   "outputs": [],
   "source": [
    "import csv"
   ]
  },
  {
   "cell_type": "code",
   "execution_count": 8,
   "id": "88740a9e",
   "metadata": {},
   "outputs": [
    {
     "name": "stdout",
     "output_type": "stream",
     "text": [
      "/Users/Koen_De_Reus/Downloads\n"
     ]
    }
   ],
   "source": [
    "%cd  /Users/Koen_De_Reus/Downloads"
   ]
  },
  {
   "cell_type": "code",
   "execution_count": 9,
   "id": "4d57a044",
   "metadata": {},
   "outputs": [],
   "source": [
    "example_dict = {'example1': list('abcd'), 'example2': list('efgh')}"
   ]
  },
  {
   "cell_type": "code",
   "execution_count": 10,
   "id": "101fc858",
   "metadata": {},
   "outputs": [],
   "source": [
    "with open('example_dict_to_csv.csv', 'w', newline = '') as f:\n",
    "    csv_writer = csv.writer(f)\n",
    "    csv_writer.writerow(['desc', 'letter1', 'letter2', 'letter3', 'letter4'])\n",
    "    for k, v in example_dict.items():\n",
    "        csv_writer.writerow([k] + v)"
   ]
  }
 ],
 "metadata": {
  "kernelspec": {
   "display_name": "Python 3 (ipykernel)",
   "language": "python",
   "name": "python3"
  },
  "language_info": {
   "codemirror_mode": {
    "name": "ipython",
    "version": 3
   },
   "file_extension": ".py",
   "mimetype": "text/x-python",
   "name": "python",
   "nbconvert_exporter": "python",
   "pygments_lexer": "ipython3",
   "version": "3.9.7"
  }
 },
 "nbformat": 4,
 "nbformat_minor": 5
}
